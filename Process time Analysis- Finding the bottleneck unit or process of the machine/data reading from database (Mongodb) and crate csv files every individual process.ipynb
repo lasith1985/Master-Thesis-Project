{
 "cells": [
  {
   "cell_type": "markdown",
   "id": "f29c96e5",
   "metadata": {},
   "source": [
    "All data reading from database (Mongodb) and crate csv files every individual process"
   ]
  },
  {
   "cell_type": "markdown",
   "id": "6d74389b",
   "metadata": {},
   "source": [
    "2.The minimum duration of a specific process (e.g. lifting) which gives the minimum possible process time and potential of the process (and the system)"
   ]
  },
  {
   "cell_type": "markdown",
   "id": "69f8f34c",
   "metadata": {},
   "source": [
    "Filter:<br>\n",
    "01.topic : process <br>\n",
    "02.element type : Unit procedure<br>\n",
    "03.cammand key :<br>\n",
    "'Lift Products'<br>\n",
    "'Measure products'<br>\n",
    "'Position Products'<br>\n",
    "'Punch Products'<br> \n",
    "'Glue Products'<br>\n",
    "'Unlift Products'<br>\n",
    "'Discharge Row'<br>\n"
   ]
  },
  {
   "cell_type": "code",
   "execution_count": 3,
   "id": "c73fd645",
   "metadata": {},
   "outputs": [],
   "source": [
    "#pip install bson\n",
    "#pip install pymongo"
   ]
  },
  {
   "cell_type": "code",
   "execution_count": 4,
   "id": "75e04f82",
   "metadata": {},
   "outputs": [],
   "source": [
    "import pandas as pd\n",
    "import json\n",
    "import bson"
   ]
  },
  {
   "cell_type": "code",
   "execution_count": 5,
   "id": "d5863573",
   "metadata": {},
   "outputs": [],
   "source": [
    "import pymongo\n",
    "from pymongo import MongoClient\n",
    "client=MongoClient('localhost' ,27017)"
   ]
  },
  {
   "cell_type": "code",
   "execution_count": 6,
   "id": "dd06950f",
   "metadata": {},
   "outputs": [
    {
     "name": "stdout",
     "output_type": "stream",
     "text": [
      "['BRIX', 'BRIX1', 'BRIX2', 'admin', 'config', 'ella', 'ella1', 'ella2', 'local']\n"
     ]
    }
   ],
   "source": [
    "print(client.list_database_names())"
   ]
  },
  {
   "cell_type": "code",
   "execution_count": 7,
   "id": "3cfa182d",
   "metadata": {},
   "outputs": [
    {
     "name": "stdout",
     "output_type": "stream",
     "text": [
      "The database exists.\n"
     ]
    }
   ],
   "source": [
    "dblist = client.list_database_names()\n",
    "if \"BRIX2\" in dblist:\n",
    "  print(\"The database exists.\")"
   ]
  },
  {
   "cell_type": "code",
   "execution_count": 8,
   "id": "112ad353",
   "metadata": {},
   "outputs": [
    {
     "data": {
      "text/plain": [
       "Database(MongoClient(host=['localhost:27017'], document_class=dict, tz_aware=False, connect=True), 'BRIX2')"
      ]
     },
     "execution_count": 8,
     "metadata": {},
     "output_type": "execute_result"
    }
   ],
   "source": [
    "mydb = client[\"BRIX2\"]\n",
    "mydb"
   ]
  },
  {
   "cell_type": "code",
   "execution_count": 9,
   "id": "8a09ba8b",
   "metadata": {},
   "outputs": [
    {
     "name": "stdout",
     "output_type": "stream",
     "text": [
      "['events', 'PackML', 'Procedures']\n"
     ]
    }
   ],
   "source": [
    "print(mydb.list_collection_names())"
   ]
  },
  {
   "cell_type": "code",
   "execution_count": 10,
   "id": "93acc533",
   "metadata": {},
   "outputs": [
    {
     "data": {
      "text/plain": [
       "Collection(Database(MongoClient(host=['localhost:27017'], document_class=dict, tz_aware=False, connect=True), 'BRIX2'), 'Procedures')"
      ]
     },
     "execution_count": 10,
     "metadata": {},
     "output_type": "execute_result"
    }
   ],
   "source": [
    "Proceduresdb = mydb[\"Procedures\"]\n",
    "Proceduresdb "
   ]
  },
  {
   "cell_type": "code",
   "execution_count": 11,
   "id": "5195f613",
   "metadata": {},
   "outputs": [
    {
     "data": {
      "text/plain": [
       "{'_id': ObjectId('636bbfb8b157491254152b64'),\n",
       " 'topic': 'brix/Procedures/Startup/2022-11-09-14:58:15.407_35/Discharge Start row',\n",
       " 'TimeStamp': datetime.datetime(2022, 11, 9, 15, 10, 27, 125000),\n",
       " 'contextId': '2022-11-09-14:58:15.407_35',\n",
       " 'payload': {'commandState': 'execute',\n",
       "  'stateChangeTime': '2022-11-09T15:10:27.125Z',\n",
       "  'commandKey': 'Discharge Start row',\n",
       "  'caller': 'Row discharger',\n",
       "  'elementType': 'Unit Procedure',\n",
       "  'result': 0,\n",
       "  'duration': 0,\n",
       "  'contextId': '2022-11-09-14:58:15.407_35',\n",
       "  'executer': ''}}"
      ]
     },
     "execution_count": 11,
     "metadata": {},
     "output_type": "execute_result"
    }
   ],
   "source": [
    "x = Proceduresdb.find_one()\n",
    "x"
   ]
  },
  {
   "cell_type": "code",
   "execution_count": 12,
   "id": "39f622c2",
   "metadata": {},
   "outputs": [
    {
     "data": {
      "text/plain": [
       "{'commandState': 'execute',\n",
       " 'stateChangeTime': '2022-11-09T15:10:27.125Z',\n",
       " 'commandKey': 'Discharge Start row',\n",
       " 'caller': 'Row discharger',\n",
       " 'elementType': 'Unit Procedure',\n",
       " 'result': 0,\n",
       " 'duration': 0,\n",
       " 'contextId': '2022-11-09-14:58:15.407_35',\n",
       " 'executer': ''}"
      ]
     },
     "execution_count": 12,
     "metadata": {},
     "output_type": "execute_result"
    }
   ],
   "source": [
    "x['payload']"
   ]
  },
  {
   "cell_type": "markdown",
   "id": "54cf5978",
   "metadata": {},
   "source": [
    "elementType ['Unit Procedure'] <br>\n",
    "commandState ['Aborted', 'Completed', 'Stopped', 'execute'] <br>\n",
    "commandKey ['Discharge Row', 'Glue Products', 'Lift Products', 'Measure products', 'Position Products', 'Punch Products', 'Unlift Products'] <br>\n",
    "caller ['Product gluer', 'Product lifter', 'Product measurer', 'Product positioner', 'Product puncher', 'Product unlifter', 'Row discharger'] <br>"
   ]
  },
  {
   "cell_type": "code",
   "execution_count": 15,
   "id": "c32ae8aa",
   "metadata": {},
   "outputs": [],
   "source": [
    "import datetime\n",
    "# only available 2022, 11, 9 to 2022, 11, 17\n",
    "#{ results: { $elemMatch: { $gte: 80, $lt: 85 } } }\n",
    "start = datetime.datetime(2022, 11, 15)\n",
    "end = datetime.datetime(2022, 11, 17)\n",
    "#d = datetime.datetime(2022, 11, 16, 0)\n",
    "a1=Proceduresdb.find({\"TimeStamp\": { \"$gt\": start, \"$lte\": end }})"
   ]
  },
  {
   "cell_type": "code",
   "execution_count": 16,
   "id": "e0b7cf2c",
   "metadata": {},
   "outputs": [
    {
     "name": "stderr",
     "output_type": "stream",
     "text": [
      "C:\\Temp\\ipykernel_11112\\3216544435.py:80: SettingWithCopyWarning: \n",
      "A value is trying to be set on a copy of a slice from a DataFrame.\n",
      "Try using .loc[row_indexer,col_indexer] = value instead\n",
      "\n",
      "See the caveats in the documentation: https://pandas.pydata.org/pandas-docs/stable/user_guide/indexing.html#returning-a-view-versus-a-copy\n",
      "  Executecompletted_df['process time'] = Executecompletted_df['TimeStamp']-Executecompletted_df['TimeStamp_start']\n",
      "C:\\Temp\\ipykernel_11112\\3216544435.py:82: SettingWithCopyWarning: \n",
      "A value is trying to be set on a copy of a slice from a DataFrame.\n",
      "Try using .loc[row_indexer,col_indexer] = value instead\n",
      "\n",
      "See the caveats in the documentation: https://pandas.pydata.org/pandas-docs/stable/user_guide/indexing.html#returning-a-view-versus-a-copy\n",
      "  Executecompletted_df['process time_s'] = (Executecompletted_df['process time']).dt.total_seconds()\n",
      "C:\\Temp\\ipykernel_11112\\3216544435.py:99: SettingWithCopyWarning: \n",
      "A value is trying to be set on a copy of a slice from a DataFrame.\n",
      "Try using .loc[row_indexer,col_indexer] = value instead\n",
      "\n",
      "See the caveats in the documentation: https://pandas.pydata.org/pandas-docs/stable/user_guide/indexing.html#returning-a-view-versus-a-copy\n",
      "  Aborted_df['process time_Aborted'] = Aborted_df['TimeStamp']-Aborted_df['TimeStamp_start']\n",
      "C:\\Temp\\ipykernel_11112\\3216544435.py:101: SettingWithCopyWarning: \n",
      "A value is trying to be set on a copy of a slice from a DataFrame.\n",
      "Try using .loc[row_indexer,col_indexer] = value instead\n",
      "\n",
      "See the caveats in the documentation: https://pandas.pydata.org/pandas-docs/stable/user_guide/indexing.html#returning-a-view-versus-a-copy\n",
      "  Aborted_df['process time_Aborted_s'] = (Aborted_df['process time_Aborted']).dt.total_seconds()\n",
      "C:\\Temp\\ipykernel_11112\\3216544435.py:80: SettingWithCopyWarning: \n",
      "A value is trying to be set on a copy of a slice from a DataFrame.\n",
      "Try using .loc[row_indexer,col_indexer] = value instead\n",
      "\n",
      "See the caveats in the documentation: https://pandas.pydata.org/pandas-docs/stable/user_guide/indexing.html#returning-a-view-versus-a-copy\n",
      "  Executecompletted_df['process time'] = Executecompletted_df['TimeStamp']-Executecompletted_df['TimeStamp_start']\n",
      "C:\\Temp\\ipykernel_11112\\3216544435.py:82: SettingWithCopyWarning: \n",
      "A value is trying to be set on a copy of a slice from a DataFrame.\n",
      "Try using .loc[row_indexer,col_indexer] = value instead\n",
      "\n",
      "See the caveats in the documentation: https://pandas.pydata.org/pandas-docs/stable/user_guide/indexing.html#returning-a-view-versus-a-copy\n",
      "  Executecompletted_df['process time_s'] = (Executecompletted_df['process time']).dt.total_seconds()\n",
      "C:\\Temp\\ipykernel_11112\\3216544435.py:99: SettingWithCopyWarning: \n",
      "A value is trying to be set on a copy of a slice from a DataFrame.\n",
      "Try using .loc[row_indexer,col_indexer] = value instead\n",
      "\n",
      "See the caveats in the documentation: https://pandas.pydata.org/pandas-docs/stable/user_guide/indexing.html#returning-a-view-versus-a-copy\n",
      "  Aborted_df['process time_Aborted'] = Aborted_df['TimeStamp']-Aborted_df['TimeStamp_start']\n",
      "C:\\Temp\\ipykernel_11112\\3216544435.py:101: SettingWithCopyWarning: \n",
      "A value is trying to be set on a copy of a slice from a DataFrame.\n",
      "Try using .loc[row_indexer,col_indexer] = value instead\n",
      "\n",
      "See the caveats in the documentation: https://pandas.pydata.org/pandas-docs/stable/user_guide/indexing.html#returning-a-view-versus-a-copy\n",
      "  Aborted_df['process time_Aborted_s'] = (Aborted_df['process time_Aborted']).dt.total_seconds()\n",
      "C:\\Temp\\ipykernel_11112\\3216544435.py:80: SettingWithCopyWarning: \n",
      "A value is trying to be set on a copy of a slice from a DataFrame.\n",
      "Try using .loc[row_indexer,col_indexer] = value instead\n",
      "\n",
      "See the caveats in the documentation: https://pandas.pydata.org/pandas-docs/stable/user_guide/indexing.html#returning-a-view-versus-a-copy\n",
      "  Executecompletted_df['process time'] = Executecompletted_df['TimeStamp']-Executecompletted_df['TimeStamp_start']\n",
      "C:\\Temp\\ipykernel_11112\\3216544435.py:82: SettingWithCopyWarning: \n",
      "A value is trying to be set on a copy of a slice from a DataFrame.\n",
      "Try using .loc[row_indexer,col_indexer] = value instead\n",
      "\n",
      "See the caveats in the documentation: https://pandas.pydata.org/pandas-docs/stable/user_guide/indexing.html#returning-a-view-versus-a-copy\n",
      "  Executecompletted_df['process time_s'] = (Executecompletted_df['process time']).dt.total_seconds()\n",
      "C:\\Temp\\ipykernel_11112\\3216544435.py:99: SettingWithCopyWarning: \n",
      "A value is trying to be set on a copy of a slice from a DataFrame.\n",
      "Try using .loc[row_indexer,col_indexer] = value instead\n",
      "\n",
      "See the caveats in the documentation: https://pandas.pydata.org/pandas-docs/stable/user_guide/indexing.html#returning-a-view-versus-a-copy\n",
      "  Aborted_df['process time_Aborted'] = Aborted_df['TimeStamp']-Aborted_df['TimeStamp_start']\n",
      "C:\\Temp\\ipykernel_11112\\3216544435.py:101: SettingWithCopyWarning: \n",
      "A value is trying to be set on a copy of a slice from a DataFrame.\n",
      "Try using .loc[row_indexer,col_indexer] = value instead\n",
      "\n",
      "See the caveats in the documentation: https://pandas.pydata.org/pandas-docs/stable/user_guide/indexing.html#returning-a-view-versus-a-copy\n",
      "  Aborted_df['process time_Aborted_s'] = (Aborted_df['process time_Aborted']).dt.total_seconds()\n",
      "C:\\Temp\\ipykernel_11112\\3216544435.py:80: SettingWithCopyWarning: \n",
      "A value is trying to be set on a copy of a slice from a DataFrame.\n",
      "Try using .loc[row_indexer,col_indexer] = value instead\n",
      "\n",
      "See the caveats in the documentation: https://pandas.pydata.org/pandas-docs/stable/user_guide/indexing.html#returning-a-view-versus-a-copy\n",
      "  Executecompletted_df['process time'] = Executecompletted_df['TimeStamp']-Executecompletted_df['TimeStamp_start']\n",
      "C:\\Temp\\ipykernel_11112\\3216544435.py:82: SettingWithCopyWarning: \n",
      "A value is trying to be set on a copy of a slice from a DataFrame.\n",
      "Try using .loc[row_indexer,col_indexer] = value instead\n",
      "\n",
      "See the caveats in the documentation: https://pandas.pydata.org/pandas-docs/stable/user_guide/indexing.html#returning-a-view-versus-a-copy\n",
      "  Executecompletted_df['process time_s'] = (Executecompletted_df['process time']).dt.total_seconds()\n",
      "C:\\Temp\\ipykernel_11112\\3216544435.py:99: SettingWithCopyWarning: \n",
      "A value is trying to be set on a copy of a slice from a DataFrame.\n",
      "Try using .loc[row_indexer,col_indexer] = value instead\n",
      "\n",
      "See the caveats in the documentation: https://pandas.pydata.org/pandas-docs/stable/user_guide/indexing.html#returning-a-view-versus-a-copy\n",
      "  Aborted_df['process time_Aborted'] = Aborted_df['TimeStamp']-Aborted_df['TimeStamp_start']\n",
      "C:\\Temp\\ipykernel_11112\\3216544435.py:101: SettingWithCopyWarning: \n",
      "A value is trying to be set on a copy of a slice from a DataFrame.\n",
      "Try using .loc[row_indexer,col_indexer] = value instead\n",
      "\n",
      "See the caveats in the documentation: https://pandas.pydata.org/pandas-docs/stable/user_guide/indexing.html#returning-a-view-versus-a-copy\n",
      "  Aborted_df['process time_Aborted_s'] = (Aborted_df['process time_Aborted']).dt.total_seconds()\n",
      "C:\\Temp\\ipykernel_11112\\3216544435.py:80: SettingWithCopyWarning: \n",
      "A value is trying to be set on a copy of a slice from a DataFrame.\n",
      "Try using .loc[row_indexer,col_indexer] = value instead\n",
      "\n",
      "See the caveats in the documentation: https://pandas.pydata.org/pandas-docs/stable/user_guide/indexing.html#returning-a-view-versus-a-copy\n",
      "  Executecompletted_df['process time'] = Executecompletted_df['TimeStamp']-Executecompletted_df['TimeStamp_start']\n",
      "C:\\Temp\\ipykernel_11112\\3216544435.py:82: SettingWithCopyWarning: \n",
      "A value is trying to be set on a copy of a slice from a DataFrame.\n",
      "Try using .loc[row_indexer,col_indexer] = value instead\n",
      "\n",
      "See the caveats in the documentation: https://pandas.pydata.org/pandas-docs/stable/user_guide/indexing.html#returning-a-view-versus-a-copy\n",
      "  Executecompletted_df['process time_s'] = (Executecompletted_df['process time']).dt.total_seconds()\n",
      "C:\\Temp\\ipykernel_11112\\3216544435.py:99: SettingWithCopyWarning: \n",
      "A value is trying to be set on a copy of a slice from a DataFrame.\n",
      "Try using .loc[row_indexer,col_indexer] = value instead\n",
      "\n",
      "See the caveats in the documentation: https://pandas.pydata.org/pandas-docs/stable/user_guide/indexing.html#returning-a-view-versus-a-copy\n",
      "  Aborted_df['process time_Aborted'] = Aborted_df['TimeStamp']-Aborted_df['TimeStamp_start']\n",
      "C:\\Temp\\ipykernel_11112\\3216544435.py:101: SettingWithCopyWarning: \n",
      "A value is trying to be set on a copy of a slice from a DataFrame.\n",
      "Try using .loc[row_indexer,col_indexer] = value instead\n",
      "\n",
      "See the caveats in the documentation: https://pandas.pydata.org/pandas-docs/stable/user_guide/indexing.html#returning-a-view-versus-a-copy\n",
      "  Aborted_df['process time_Aborted_s'] = (Aborted_df['process time_Aborted']).dt.total_seconds()\n"
     ]
    },
    {
     "name": "stderr",
     "output_type": "stream",
     "text": [
      "C:\\Temp\\ipykernel_11112\\3216544435.py:80: SettingWithCopyWarning: \n",
      "A value is trying to be set on a copy of a slice from a DataFrame.\n",
      "Try using .loc[row_indexer,col_indexer] = value instead\n",
      "\n",
      "See the caveats in the documentation: https://pandas.pydata.org/pandas-docs/stable/user_guide/indexing.html#returning-a-view-versus-a-copy\n",
      "  Executecompletted_df['process time'] = Executecompletted_df['TimeStamp']-Executecompletted_df['TimeStamp_start']\n",
      "C:\\Temp\\ipykernel_11112\\3216544435.py:82: SettingWithCopyWarning: \n",
      "A value is trying to be set on a copy of a slice from a DataFrame.\n",
      "Try using .loc[row_indexer,col_indexer] = value instead\n",
      "\n",
      "See the caveats in the documentation: https://pandas.pydata.org/pandas-docs/stable/user_guide/indexing.html#returning-a-view-versus-a-copy\n",
      "  Executecompletted_df['process time_s'] = (Executecompletted_df['process time']).dt.total_seconds()\n",
      "C:\\Temp\\ipykernel_11112\\3216544435.py:99: SettingWithCopyWarning: \n",
      "A value is trying to be set on a copy of a slice from a DataFrame.\n",
      "Try using .loc[row_indexer,col_indexer] = value instead\n",
      "\n",
      "See the caveats in the documentation: https://pandas.pydata.org/pandas-docs/stable/user_guide/indexing.html#returning-a-view-versus-a-copy\n",
      "  Aborted_df['process time_Aborted'] = Aborted_df['TimeStamp']-Aborted_df['TimeStamp_start']\n",
      "C:\\Temp\\ipykernel_11112\\3216544435.py:101: SettingWithCopyWarning: \n",
      "A value is trying to be set on a copy of a slice from a DataFrame.\n",
      "Try using .loc[row_indexer,col_indexer] = value instead\n",
      "\n",
      "See the caveats in the documentation: https://pandas.pydata.org/pandas-docs/stable/user_guide/indexing.html#returning-a-view-versus-a-copy\n",
      "  Aborted_df['process time_Aborted_s'] = (Aborted_df['process time_Aborted']).dt.total_seconds()\n"
     ]
    }
   ],
   "source": [
    "df = pd.read_csv('ProcessEgg_UnitProcedure.csv')\n",
    "\n",
    "dataframes_list = []\n",
    "dataframes_list1 = []\n",
    "dataframes_list11 = []\n",
    "dataframes_list2 = []\n",
    "dataframes_list3 = []\n",
    "\n",
    "for va in df['Unit procedure']:\n",
    "    #filter Process Egg_Unit Procedure_Lift Products\n",
    "    a2=Proceduresdb.find({\"$text\": {\"$search\": \"\\\"Process eggs\\\"\"},\n",
    "                      \"payload.elementType\": \"Unit Procedure\",\n",
    "                      \"payload.commandKey\": va  })\n",
    "    \n",
    "    list_cur2 = list(a2)\n",
    "    filter_ProcessEgg_UnitProcedure_LiftProducts_df = pd.DataFrame(list_cur2)\n",
    "    \n",
    "    #payload extract\n",
    "    payload=filter_ProcessEgg_UnitProcedure_LiftProducts_df.payload.apply(pd.Series)\n",
    "    #drop contextId\n",
    "    payload=payload.drop(['contextId'], axis=1)\n",
    "    #connect both Data together \n",
    "    concatenated = pd.concat([filter_ProcessEgg_UnitProcedure_LiftProducts_df, payload], axis=\"columns\")\n",
    "    #add date\n",
    "    concatenated['date'] = [d.date() for d in concatenated['TimeStamp']]\n",
    "    \n",
    "    #original data-#process Eggg_unit procedure\n",
    "    dataframes_list.append(concatenated)\n",
    "    \n",
    "    #filter ['commandState']==\"Completed\",Aborted,Stopped\n",
    "    b=(concatenated['commandState']==\"Completed\") | (concatenated['commandState']==\"Aborted\") | (concatenated['commandState']==\"Stopped\")\n",
    "    CAS_df=concatenated[b]\n",
    "    CAS_df = CAS_df.reset_index()\n",
    "    CAS_df=CAS_df.drop(['index'], axis=1)\n",
    "    \n",
    "    #filter ['commandState']==\"execute\"\n",
    "    b1=(concatenated['commandState']==\"execute\") \n",
    "    E_df=concatenated[b1]\n",
    "    \n",
    "    # colomn name change\n",
    "    E_df1=E_df.rename({'TimeStamp':'TimeStamp_start' , 'commandState':'commandState_e', 'result':'result_e'}, axis=1)\n",
    "    E_df1 = E_df1.reset_index()\n",
    "    E_df1=E_df1.drop(['index'], axis=1)\n",
    "    \n",
    "    #connect both Data together \n",
    "    ProcessEgg_df = pd.concat([CAS_df, E_df1['TimeStamp_start'],E_df1['commandState_e'],E_df1['result_e']], axis=\"columns\")\n",
    "    #remove column\n",
    "    ProcessEgg_df=ProcessEgg_df.drop(columns=['_id', 'payload', 'stateChangeTime'])\n",
    "\n",
    "    # append datasets into the list\n",
    "    #process Eggg_unit procedure\n",
    "    dataframes_list1.append(ProcessEgg_df)\n",
    "    \n",
    "    ##################################### new one 2023.01.02\n",
    "    #Completed\",Aborted,Stopped - process_handling_cycle time calculation\n",
    "    #Executecompletted_df=ProcessEgg_df[ProcessEgg_df['commandState']==\"Completed\"]\n",
    "    E_A_S_df= ProcessEgg_df.copy()\n",
    "    #calculate process time\n",
    "    E_A_S_df['process time'] = E_A_S_df['TimeStamp']-E_A_S_df['TimeStamp_start']\n",
    "    #calculate process time in seconds (execute completed )\n",
    "    E_A_S_df['process time_s'] = (E_A_S_df['process time']).dt.total_seconds()\n",
    "\n",
    "    #calculate handling time for execute = execute,Aborted,Stopped time - completed time(TimeStamp column 1 cell up data)\n",
    "    E_A_S_df1= E_A_S_df.copy()\n",
    "    E_A_S_df1['handling time'] = E_A_S_df1['TimeStamp_start'].shift(1) - E_A_S_df1['TimeStamp']\n",
    "    #calculate handling time in seconds \n",
    "    E_A_S_df1['handling time_s'] = (E_A_S_df1['handling time']).dt.total_seconds()\n",
    "    #cycle time LiftProducts (execute to next execute state)\n",
    "    E_A_S_df1['cycle time_s'] = E_A_S_df1['process time_s'] + E_A_S_df1['handling time_s']\n",
    "    \n",
    "    #LiftProducts_Execute_process_handling_cycle time for execute,Aborted,Stopped\n",
    "    dataframes_list11.append(E_A_S_df1)\n",
    "    \n",
    "    #####################################\n",
    "    \n",
    "    ####################################\n",
    "    #filter ['commandState']==\"Completed\"\n",
    "    Executecompletted_df=ProcessEgg_df[ProcessEgg_df['commandState']==\"Completed\"]\n",
    "    #calculate process time\n",
    "    Executecompletted_df['process time'] = Executecompletted_df['TimeStamp']-Executecompletted_df['TimeStamp_start']\n",
    "    #calculate process time in seconds (execute completed )\n",
    "    Executecompletted_df['process time_s'] = (Executecompletted_df['process time']).dt.total_seconds()\n",
    "\n",
    "    #calculate handling time for execute = execute time - completed time(TimeStamp column 1 cell up data)\n",
    "    Executecompletted_df1=Executecompletted_df.copy()\n",
    "    Executecompletted_df1['handling time'] = Executecompletted_df1['TimeStamp_start'].shift(1) - Executecompletted_df1['TimeStamp']\n",
    "    #calculate handling time in seconds \n",
    "    Executecompletted_df1['handling time_s'] = (Executecompletted_df1['handling time']).dt.total_seconds()\n",
    "    #cycle time LiftProducts (execute to next execute state)\n",
    "    Executecompletted_df1['cycle time_s'] = Executecompletted_df1['process time_s'] + Executecompletted_df1['handling time_s']\n",
    "    \n",
    "    #LiftProducts_Execute_process_handling_cycle time\n",
    "    dataframes_list2.append(Executecompletted_df1)\n",
    "    \n",
    "    ##############################\n",
    "    #filter ['commandState']==\"Aborted\"\n",
    "    Aborted_df=ProcessEgg_df[ProcessEgg_df['commandState']==\"Aborted\"]\n",
    "    #calculate process time Aborted\n",
    "    Aborted_df['process time_Aborted'] = Aborted_df['TimeStamp']-Aborted_df['TimeStamp_start']\n",
    "    #calculate process time in seconds (Aborted )\n",
    "    Aborted_df['process time_Aborted_s'] = (Aborted_df['process time_Aborted']).dt.total_seconds()\n",
    "    #calculate handling time for execute = execute time - completed time(TimeStamp column 1 cell up data)\n",
    "    Aborted_df1=Aborted_df.copy()\n",
    "    Aborted_df1['handling time_Aborted'] = Aborted_df1['TimeStamp_start'].shift(1) - Aborted_df1['TimeStamp']\n",
    "    #calculate handling time in seconds \n",
    "    Aborted_df1['handling time_Aborted_s'] = (Aborted_df1['handling time_Aborted']).dt.total_seconds()\n",
    "    #cycle time LiftProducts (execute to next execute state)\n",
    "    Aborted_df1['cycle time_Aborted_s'] = Aborted_df1['process time_Aborted_s'] + Aborted_df1['handling time_Aborted_s']\n",
    "\n",
    "\n",
    "    # LiftProducts_Aborted_process_handling_cycle time\n",
    "    dataframes_list3.append(Aborted_df1)\n",
    "  \n"
   ]
  },
  {
   "cell_type": "code",
   "execution_count": 17,
   "id": "cbaf9358",
   "metadata": {},
   "outputs": [
    {
     "data": {
      "text/html": [
       "<div>\n",
       "<style scoped>\n",
       "    .dataframe tbody tr th:only-of-type {\n",
       "        vertical-align: middle;\n",
       "    }\n",
       "\n",
       "    .dataframe tbody tr th {\n",
       "        vertical-align: top;\n",
       "    }\n",
       "\n",
       "    .dataframe thead th {\n",
       "        text-align: right;\n",
       "    }\n",
       "</style>\n",
       "<table border=\"1\" class=\"dataframe\">\n",
       "  <thead>\n",
       "    <tr style=\"text-align: right;\">\n",
       "      <th></th>\n",
       "      <th>topic</th>\n",
       "      <th>TimeStamp</th>\n",
       "      <th>contextId</th>\n",
       "      <th>commandState</th>\n",
       "      <th>commandKey</th>\n",
       "      <th>caller</th>\n",
       "      <th>elementType</th>\n",
       "      <th>result</th>\n",
       "      <th>duration</th>\n",
       "      <th>executer</th>\n",
       "      <th>date</th>\n",
       "      <th>TimeStamp_start</th>\n",
       "      <th>commandState_e</th>\n",
       "      <th>result_e</th>\n",
       "    </tr>\n",
       "  </thead>\n",
       "  <tbody>\n",
       "    <tr>\n",
       "      <th>0</th>\n",
       "      <td>brix/Procedures/Process eggs/2022-11-16-12:10:...</td>\n",
       "      <td>2022-11-16 12:11:36.002</td>\n",
       "      <td>2022-11-16-12:10:43.103_19</td>\n",
       "      <td>Completed</td>\n",
       "      <td>Lift Products</td>\n",
       "      <td>Product lifter</td>\n",
       "      <td>Unit Procedure</td>\n",
       "      <td>2147483647</td>\n",
       "      <td>0</td>\n",
       "      <td></td>\n",
       "      <td>2022-11-16</td>\n",
       "      <td>2022-11-16 12:11:28.592</td>\n",
       "      <td>execute</td>\n",
       "      <td>0</td>\n",
       "    </tr>\n",
       "    <tr>\n",
       "      <th>1</th>\n",
       "      <td>brix/Procedures/Process eggs/2022-11-16-12:10:...</td>\n",
       "      <td>2022-11-16 12:11:27.492</td>\n",
       "      <td>2022-11-16-12:10:34.573_18</td>\n",
       "      <td>Completed</td>\n",
       "      <td>Lift Products</td>\n",
       "      <td>Product lifter</td>\n",
       "      <td>Unit Procedure</td>\n",
       "      <td>2147483647</td>\n",
       "      <td>0</td>\n",
       "      <td></td>\n",
       "      <td>2022-11-16</td>\n",
       "      <td>2022-11-16 12:11:20.065</td>\n",
       "      <td>execute</td>\n",
       "      <td>0</td>\n",
       "    </tr>\n",
       "    <tr>\n",
       "      <th>2</th>\n",
       "      <td>brix/Procedures/Process eggs/2022-11-16-12:10:...</td>\n",
       "      <td>2022-11-16 12:11:17.612</td>\n",
       "      <td>2022-11-16-12:10:24.663_17</td>\n",
       "      <td>Completed</td>\n",
       "      <td>Lift Products</td>\n",
       "      <td>Product lifter</td>\n",
       "      <td>Unit Procedure</td>\n",
       "      <td>2147483647</td>\n",
       "      <td>0</td>\n",
       "      <td></td>\n",
       "      <td>2022-11-16</td>\n",
       "      <td>2022-11-16 12:11:10.202</td>\n",
       "      <td>execute</td>\n",
       "      <td>0</td>\n",
       "    </tr>\n",
       "    <tr>\n",
       "      <th>3</th>\n",
       "      <td>brix/Procedures/Process eggs/2022-11-16-12:10:...</td>\n",
       "      <td>2022-11-16 12:11:09.102</td>\n",
       "      <td>2022-11-16-12:10:10.573_16</td>\n",
       "      <td>Completed</td>\n",
       "      <td>Lift Products</td>\n",
       "      <td>Product lifter</td>\n",
       "      <td>Unit Procedure</td>\n",
       "      <td>2147483647</td>\n",
       "      <td>0</td>\n",
       "      <td></td>\n",
       "      <td>2022-11-16</td>\n",
       "      <td>2022-11-16 12:11:01.792</td>\n",
       "      <td>execute</td>\n",
       "      <td>0</td>\n",
       "    </tr>\n",
       "    <tr>\n",
       "      <th>4</th>\n",
       "      <td>brix/Procedures/Process eggs/2022-11-16-12:10:...</td>\n",
       "      <td>2022-11-16 12:10:59.362</td>\n",
       "      <td>2022-11-16-12:10:00.763_14</td>\n",
       "      <td>Completed</td>\n",
       "      <td>Lift Products</td>\n",
       "      <td>Product lifter</td>\n",
       "      <td>Unit Procedure</td>\n",
       "      <td>2147483647</td>\n",
       "      <td>0</td>\n",
       "      <td></td>\n",
       "      <td>2022-11-16</td>\n",
       "      <td>2022-11-16 12:10:52.023</td>\n",
       "      <td>execute</td>\n",
       "      <td>0</td>\n",
       "    </tr>\n",
       "  </tbody>\n",
       "</table>\n",
       "</div>"
      ],
      "text/plain": [
       "                                               topic               TimeStamp  \\\n",
       "0  brix/Procedures/Process eggs/2022-11-16-12:10:... 2022-11-16 12:11:36.002   \n",
       "1  brix/Procedures/Process eggs/2022-11-16-12:10:... 2022-11-16 12:11:27.492   \n",
       "2  brix/Procedures/Process eggs/2022-11-16-12:10:... 2022-11-16 12:11:17.612   \n",
       "3  brix/Procedures/Process eggs/2022-11-16-12:10:... 2022-11-16 12:11:09.102   \n",
       "4  brix/Procedures/Process eggs/2022-11-16-12:10:... 2022-11-16 12:10:59.362   \n",
       "\n",
       "                    contextId commandState     commandKey          caller  \\\n",
       "0  2022-11-16-12:10:43.103_19    Completed  Lift Products  Product lifter   \n",
       "1  2022-11-16-12:10:34.573_18    Completed  Lift Products  Product lifter   \n",
       "2  2022-11-16-12:10:24.663_17    Completed  Lift Products  Product lifter   \n",
       "3  2022-11-16-12:10:10.573_16    Completed  Lift Products  Product lifter   \n",
       "4  2022-11-16-12:10:00.763_14    Completed  Lift Products  Product lifter   \n",
       "\n",
       "      elementType      result  duration executer        date  \\\n",
       "0  Unit Procedure  2147483647         0           2022-11-16   \n",
       "1  Unit Procedure  2147483647         0           2022-11-16   \n",
       "2  Unit Procedure  2147483647         0           2022-11-16   \n",
       "3  Unit Procedure  2147483647         0           2022-11-16   \n",
       "4  Unit Procedure  2147483647         0           2022-11-16   \n",
       "\n",
       "          TimeStamp_start commandState_e  result_e  \n",
       "0 2022-11-16 12:11:28.592        execute         0  \n",
       "1 2022-11-16 12:11:20.065        execute         0  \n",
       "2 2022-11-16 12:11:10.202        execute         0  \n",
       "3 2022-11-16 12:11:01.792        execute         0  \n",
       "4 2022-11-16 12:10:52.023        execute         0  "
      ]
     },
     "execution_count": 17,
     "metadata": {},
     "output_type": "execute_result"
    }
   ],
   "source": [
    "dataframes_list1[0].head()"
   ]
  },
  {
   "cell_type": "code",
   "execution_count": 18,
   "id": "a2ef0391",
   "metadata": {},
   "outputs": [],
   "source": [
    "# export a list of df to separate csv files \n",
    "#process Eggg_unit procedure\n",
    "for j, frame in enumerate(dataframes_list):\n",
    "    frame.to_csv(f\"C:/Users/HLQ/Documents/jupyter/EGSS/Procedures/Process Egg Analysis All/UP_data2/UP_csv/UP{j}.csv\")\n",
    "   \n"
   ]
  },
  {
   "cell_type": "code",
   "execution_count": 19,
   "id": "93de7055",
   "metadata": {},
   "outputs": [],
   "source": [
    "# export a list of df to separate csv files \n",
    "#process Eggg_unit procedure -separation\n",
    "for j1, frame in enumerate(dataframes_list1):\n",
    "    frame.to_csv(f\"C:/Users/HLQ/Documents/jupyter/EGSS/Procedures/Process Egg Analysis All/UP_data2/UP_s_csv/UP_s{j1}.csv\")"
   ]
  },
  {
   "cell_type": "code",
   "execution_count": 20,
   "id": "3bca48c7",
   "metadata": {},
   "outputs": [],
   "source": [
    " #LiftProducts_Execute_process_handling_cycle time for execute,Aborted,Stopped\n",
    "#dataframes_list11.append(E_A_S_df1_df1)\n",
    "# export a list of df to separate csv files \n",
    "for j11, frame in enumerate(dataframes_list11):\n",
    "    frame.to_csv(f\"C:/Users/HLQ/Documents/jupyter/EGSS/Procedures/Process Egg Analysis All/UP_data2/UP_EAS_csv/UP_E_A_S{j11}.csv\")"
   ]
  },
  {
   "cell_type": "code",
   "execution_count": 21,
   "id": "6e17cf31",
   "metadata": {},
   "outputs": [],
   "source": [
    "# export a list of df to separate csv files \n",
    "#process_handling_cycle time_Execute state\n",
    "for j2, frame in enumerate(dataframes_list2):\n",
    "    frame.to_csv(f\"C:/Users/HLQ/Documents/jupyter/EGSS/Procedures/Process Egg Analysis All/UP_data2/UP_E_csv/UP_E{j2}.csv\")"
   ]
  },
  {
   "cell_type": "code",
   "execution_count": 22,
   "id": "408e257d",
   "metadata": {},
   "outputs": [],
   "source": [
    "# export a list of df to separate csv files \n",
    "#process_handling_cycle time_Aborted state\n",
    "for j3, frame in enumerate(dataframes_list3):\n",
    "    frame.to_csv(f\"C:/Users/HLQ/Documents/jupyter/EGSS/Procedures/Process Egg Analysis All/UP_data2/UP_A_csv/UP_A{j3}.csv\")"
   ]
  },
  {
   "cell_type": "code",
   "execution_count": null,
   "id": "85c3a405",
   "metadata": {},
   "outputs": [],
   "source": []
  }
 ],
 "metadata": {
  "kernelspec": {
   "display_name": "Python 3",
   "language": "python",
   "name": "python3"
  },
  "language_info": {
   "codemirror_mode": {
    "name": "ipython",
    "version": 3
   },
   "file_extension": ".py",
   "mimetype": "text/x-python",
   "name": "python",
   "nbconvert_exporter": "python",
   "pygments_lexer": "ipython3",
   "version": "3.8.8"
  }
 },
 "nbformat": 4,
 "nbformat_minor": 5
}
